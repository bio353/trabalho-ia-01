{
 "cells": [
  {
   "cell_type": "markdown",
   "metadata": {},
   "source": [
    "# TRABALHO PRÁTICO 1\n",
    "\n",
    "- O trabalho prático deverá ser feito em dupla.\n",
    "- A realização da entrega deverá ser feita via Teams, através da tarefa adicionada à equipe.\n",
    "- Atente-se ao prazo de entrega, pois não será possível realizar a entrega após o prazo previsto.\n",
    "- Apenas esse arquivo (`.ipynb`) com a resolução deverá ser entregue. Entregas em formato `.zip` serão penalizados!\n",
    "- Apenas um aluno da dupla deverá fazer a entrega e colocar o nome da dupla.\n"
   ]
  },
  {
   "cell_type": "markdown",
   "metadata": {},
   "source": [
    "## Informações da Dupla\n",
    "\n",
    "| Nome         | Curso                  | Período | Turma |\n",
    "| ------------ | ---------------------- | ------- | ----- |\n",
    "| Fabio Neto   | Engenharia de Software | P7      | L1    |\n",
    "| Davi Restani | Engenharia de Software | P7      | L1    |\n"
   ]
  },
  {
   "cell_type": "markdown",
   "metadata": {},
   "source": [
    "---\n"
   ]
  },
  {
   "cell_type": "markdown",
   "metadata": {},
   "source": [
    "## Problema de Buscas\n"
   ]
  },
  {
   "cell_type": "markdown",
   "metadata": {},
   "source": [
    "### Instruções\n",
    "\n",
    "Considere um tabuleiro quadrado onde cada bloco pode estar limpo (`'o'`) ou sujo (`'i'`).\n",
    "Seu trabalho é mover o aspirador (`'x'`) pelo tabuleiro a fim de limpar todos os blocos sujos.\n",
    "\n",
    "- Sempre que o aspirador deixa um bloco, este pode ser considerado como limpo.\n",
    "- O objetivo é deixar todos espaços limpos (tabuleiro preenchido apenas com `'o'` e com o aspirador `'x'`)\n",
    "- Para responder às questões, basta completar os códigos\n",
    "\n",
    "<img src=\"images/problema.png\" width = 150>\n"
   ]
  },
  {
   "cell_type": "markdown",
   "metadata": {},
   "source": [
    "### Exemplo de Buscas\n",
    "\n",
    "<img src=\"images/buscas.png\" width = 1000>\n"
   ]
  },
  {
   "cell_type": "markdown",
   "metadata": {},
   "source": [
    "## Implementação\n"
   ]
  },
  {
   "cell_type": "markdown",
   "metadata": {},
   "source": [
    "### Bibliotecas\n",
    "\n",
    "Importações necessárias para o funcionamento do código.\n"
   ]
  },
  {
   "cell_type": "code",
   "execution_count": 1,
   "metadata": {},
   "outputs": [],
   "source": [
    "import numpy as np\n",
    "from queue import Queue\n",
    "from queue import LifoQueue\n",
    "import heapq\n",
    "import time\n"
   ]
  },
  {
   "cell_type": "markdown",
   "metadata": {},
   "source": [
    "### Problema do Aspirador de Pó\n",
    "\n",
    "Classe principal do problema. Heurística já adicionada.\n"
   ]
  },
  {
   "cell_type": "code",
   "execution_count": 2,
   "metadata": {},
   "outputs": [],
   "source": [
    "class Aspirador():\n",
    "    def __init__(self, tamanho):\n",
    "        '''\n",
    "        Construtor.\n",
    "\n",
    "        Args:\n",
    "            - tamanho: quantidade de linhas e colunas\n",
    "        '''\n",
    "        self.tamanho = tamanho\n",
    "\n",
    "    def encontra_posicao(self, estado, elemento):\n",
    "        '''\n",
    "        Varre todo o tabuleiro (estado) e verifica em qual posição 'elemento' está.\n",
    "\n",
    "        Args:\n",
    "            - estado: matriz contendo o estado do tabuleiro\n",
    "            - elemento: elemento a ser buscado na matriz\n",
    "        Return:\n",
    "            - Retorna a linha e coluna onde o elemento se encontra\n",
    "        '''\n",
    "        for i in range(self.tamanho):\n",
    "            for j in range(self.tamanho):\n",
    "                if estado[i, j] == elemento:\n",
    "                    return i, j\n",
    "        return None, None\n",
    "\n",
    "    def verifica_objetivo(self, estado):\n",
    "        '''\n",
    "        Verifica se o estado atual é o objetivo.\n",
    "\n",
    "        Objetivo:\n",
    "            - Não haver sujeira (\"i\") -> Todos blocos, exceto onde o aspirador está devem ser \"o\".\n",
    "        Args:\n",
    "            - estado: estado atual do tabuleiro\n",
    "        Return:\n",
    "            - booleano dizendo se o estado atual é ou não o objetivo\n",
    "        '''\n",
    "        item, cont = np.unique(estado, return_counts=True)\n",
    "        mapa = dict()\n",
    "        for i in range(len(item)):\n",
    "            mapa[item[i]] = cont[i]\n",
    "        # Todos elementos exceto onde o aspirador está\n",
    "        if mapa['o'] == (self.tamanho**2 - 1):\n",
    "            return True\n",
    "        return False\n",
    "\n",
    "    def expande_estados(self, atual):\n",
    "        '''\n",
    "        Dado o estado atual, realiza a expansão de estados.\n",
    "\n",
    "        Args:\n",
    "            - atual: matriz que descreve o estado atual\n",
    "        Return:\n",
    "            - lista com os novos estados após a expansão\n",
    "        '''\n",
    "        novos_estados = []\n",
    "        linha, coluna = self.encontra_posicao(atual, 'x')\n",
    "        # Cima\n",
    "        if linha > 0:\n",
    "            novo_estado = np.copy(atual)\n",
    "            nova_linha = linha - 1\n",
    "            novo_estado[nova_linha, coluna] = 'x'\n",
    "            novo_estado[linha, coluna] = 'o'\n",
    "            novos_estados.append(novo_estado)\n",
    "        # Baixo\n",
    "        if linha < self.tamanho - 1:\n",
    "            novo_estado = np.copy(atual)\n",
    "            nova_linha = linha + 1\n",
    "            novo_estado[nova_linha, coluna] = 'x'\n",
    "            novo_estado[linha, coluna] = 'o'\n",
    "\n",
    "            novos_estados.append(novo_estado)\n",
    "        # Esquerda\n",
    "        if coluna > 0:\n",
    "            novo_estado = np.copy(atual)\n",
    "            nova_coluna = coluna - 1\n",
    "            novo_estado[linha, nova_coluna] = 'x'\n",
    "            novo_estado[linha, coluna] = 'o'\n",
    "            novos_estados.append(novo_estado)\n",
    "        # Direita\n",
    "        if coluna < self.tamanho - 1:\n",
    "            novo_estado = np.copy(atual)\n",
    "            nova_coluna = coluna + 1\n",
    "            novo_estado[linha, nova_coluna] = 'x'\n",
    "            novo_estado[linha, coluna] = 'o'\n",
    "            novos_estados.append(novo_estado)\n",
    "        return novos_estados\n",
    "\n",
    "    def heuristica(self, estado):\n",
    "        '''\n",
    "        Dado o estado atual, retorna o número de elementos sujos 'i'.\n",
    "\n",
    "        Args:\n",
    "            - estado: matriz contendo o estado do tabuleiro\n",
    "        Return:\n",
    "            - número de elementos sujos 'i'\n",
    "        '''\n",
    "        return np.count_nonzero(estado == 'i')\n"
   ]
  },
  {
   "cell_type": "markdown",
   "metadata": {},
   "source": [
    "### Estratégias de Busca\n",
    "\n",
    "Adicionada por motivos de organização.\n"
   ]
  },
  {
   "cell_type": "code",
   "execution_count": 3,
   "metadata": {},
   "outputs": [],
   "source": [
    "class EstrategiaDeBusca():\n",
    "    def __init__(self, problema):\n",
    "        '''\n",
    "        Construtor.\n",
    "\n",
    "        Args:\n",
    "            - problema: objeto do problema a ser solucionado\n",
    "        '''\n",
    "        self.problema = problema\n",
    "\n",
    "    def compara_estados(self, estado, estado_visitado):\n",
    "        '''\n",
    "        Compara dois estados.\n",
    "        Caso haja alguma diferença, retorna False, senão retorna True.\n",
    "\n",
    "        Args:\n",
    "            - estado: estado atual\n",
    "            - estado_visitado: estado para fazer a comparação com o estado atual\n",
    "        Return:\n",
    "            - Retorna se os estados são iguais ou não\n",
    "        '''\n",
    "        for i in range(self.problema.tamanho):\n",
    "            for j in range(self.problema.tamanho):\n",
    "                if estado[i, j] != estado_visitado[i, j]:\n",
    "                    return False\n",
    "        return True\n",
    "\n",
    "    def verifica_visitados(self, estado, estados_visitados):\n",
    "        '''\n",
    "        Verifica se um estado está na lista de visitados.\n",
    "\n",
    "        Args:\n",
    "            - estado: estado atual\n",
    "            - estados_visitados: lista com todos os estados visitados\n",
    "        '''\n",
    "        for estado_i in estados_visitados:\n",
    "            if self.compara_estados(estado, estado_i):\n",
    "                return True\n",
    "        return False\n"
   ]
  },
  {
   "cell_type": "markdown",
   "metadata": {},
   "source": [
    "### BFS\n",
    "\n",
    "Busca em Largura.\n"
   ]
  },
  {
   "cell_type": "code",
   "execution_count": 4,
   "metadata": {},
   "outputs": [],
   "source": [
    "class BreadthFirstSearch(EstrategiaDeBusca):\n",
    "    def __init__(self, problema):\n",
    "        EstrategiaDeBusca.__init__(self, problema)\n",
    "\n",
    "    def busca(self, inicio):\n",
    "        '''\n",
    "        Realiza a busca BFS, armazenando os estados em uma FILA.\n",
    "\n",
    "        Args:\n",
    "            - inicio: estado inicial do problema\n",
    "            - fim: estado objetivo\n",
    "        Return:\n",
    "            - booleano se a solução foi encontrada, lista dos estados visitados, quantidade de estados visitados\n",
    "        '''\n",
    "        fila = Queue()\n",
    "        fila.put(inicio)\n",
    "        solucao_encontrada = False\n",
    "        estados_visitados = []\n",
    "        cont_estados = 0\n",
    "        while not fila.empty():\n",
    "            atual = fila.get()\n",
    "            estados_visitados.append(atual)\n",
    "            if self.problema.verifica_objetivo(atual):\n",
    "                solucao_encontrada = True\n",
    "                break\n",
    "            else:\n",
    "                cont_estados += 1\n",
    "                novos_estados = self.problema.expande_estados(atual)\n",
    "                for i in novos_estados:\n",
    "                    if not self.verifica_visitados(i, estados_visitados):\n",
    "                        fila.put(i)\n",
    "        return solucao_encontrada, estados_visitados, cont_estados\n"
   ]
  },
  {
   "cell_type": "markdown",
   "metadata": {},
   "source": [
    "### DFS\n",
    "\n",
    "Busca em Profundidade.\n"
   ]
  },
  {
   "cell_type": "code",
   "execution_count": 5,
   "metadata": {},
   "outputs": [],
   "source": [
    "class DepthFirstSearch(EstrategiaDeBusca):\n",
    "    def __init__(self, problema):\n",
    "        EstrategiaDeBusca.__init__(self, problema)\n",
    "\n",
    "    def busca(self, inicio):\n",
    "        '''\n",
    "        Realiza a busca DFS, armazenando os estados em uma PILHA.\n",
    "\n",
    "        Args:\n",
    "            - inicio: estado inicial do problema\n",
    "            - fim: estado objetivo\n",
    "        Return:\n",
    "            - booleano se a solução foi encontrada, lista dos estados visitados, quantidade de estados visitados\n",
    "        '''\n",
    "        pilha = LifoQueue()\n",
    "        pilha.put(inicio)\n",
    "        solucao_encontrada = False\n",
    "        estados_visitados = []\n",
    "        cont_estados = 0\n",
    "        while not pilha.empty():\n",
    "            atual = pilha.get()\n",
    "            estados_visitados.append(atual)\n",
    "            if self.problema.verifica_objetivo(atual):\n",
    "                solucao_encontrada = True\n",
    "                break\n",
    "            else:\n",
    "                cont_estados += 1\n",
    "                novos_estados = self.problema.expande_estados(atual)\n",
    "                for i in novos_estados:\n",
    "                    if not self.verifica_visitados(i, estados_visitados):\n",
    "                        pilha.put(i)\n",
    "        return solucao_encontrada, estados_visitados, cont_estados\n"
   ]
  },
  {
   "cell_type": "markdown",
   "metadata": {},
   "source": [
    "### Busca Gulosa\n",
    "\n",
    "Busca Gulosa.\n"
   ]
  },
  {
   "cell_type": "code",
   "execution_count": 6,
   "metadata": {},
   "outputs": [],
   "source": [
    "class BuscaGulosa(EstrategiaDeBusca):\n",
    "    def __init__(self, problema):\n",
    "        EstrategiaDeBusca.__init__(self, problema)\n",
    "\n",
    "    def busca(self, inicio):\n",
    "        '''\n",
    "        Realiza a busca gulosa, armazenando os estados em uma FILA DE PRIORIDADES.\n",
    "\n",
    "        Args:\n",
    "            - inicio: estado inicial do problema\n",
    "            - fim: estado objetivo\n",
    "        Return:\n",
    "            - booleano se a solução foi encontrada, lista dos estados visitados, quantidade de estados visitados\n",
    "\n",
    "        Obs.: A distância de Manhattan é inversamente proporcional à prioridade, quanto menor a distância, maior\n",
    "        a prioridade desse estado.\n",
    "        '''\n",
    "        p_fila = []\n",
    "        id_estado = 0\n",
    "        heapq.heappush(p_fila, (0, id_estado, inicio))\n",
    "        solucao_encontrada = False\n",
    "        estados_visitados = []\n",
    "        cont_estados = 0\n",
    "        while not len(p_fila) == 0:\n",
    "            atual = heapq.heappop(p_fila)[2]\n",
    "            estados_visitados.append(atual)\n",
    "            if self.problema.verifica_objetivo(atual):\n",
    "                solucao_encontrada = True\n",
    "                break\n",
    "            else:\n",
    "                cont_estados += 1\n",
    "                novos_estados = self.problema.expande_estados(atual)\n",
    "                for i in novos_estados:\n",
    "                    if not self.verifica_visitados(i, estados_visitados):\n",
    "                        id_estado += 1\n",
    "                        posicoes_sujas = self.problema.heuristica(i)\n",
    "                        heapq.heappush(p_fila, (posicoes_sujas, id_estado, i))\n",
    "        return solucao_encontrada, estados_visitados, cont_estados\n"
   ]
  },
  {
   "cell_type": "markdown",
   "metadata": {},
   "source": [
    "### Função Auxiliar\n",
    "\n",
    "Mostra os resultados alcançados.\n"
   ]
  },
  {
   "cell_type": "code",
   "execution_count": 7,
   "metadata": {},
   "outputs": [],
   "source": [
    "def mostrar_resultados(resultados, tempo):\n",
    "    solucao, _, num_visitados = resultados\n",
    "    print(f'- Finalizado em {np.format_float_scientific(tempo)} segundos.')\n",
    "    print(f'- Foram visitados {num_visitados} estados.')\n",
    "    if solucao:\n",
    "        print('- A solução foi encontrada! =)')\n",
    "    else:\n",
    "        print('- A solução não foi encontrada! =(')\n"
   ]
  },
  {
   "cell_type": "markdown",
   "metadata": {},
   "source": [
    "## Testes\n",
    "\n",
    "Executando três buscas com o tabuleiro inicial fornecido e comparando: o tempo de execução de cada busca, a quantidade de estados buscados(inclusive o estado objetivo) e se a solução foi encontrada ou não.\n"
   ]
  },
  {
   "cell_type": "code",
   "execution_count": 8,
   "metadata": {},
   "outputs": [],
   "source": [
    "start = np.array([['x', 'i', 'o'],\n",
    "                  ['i', 'i', 'i'],\n",
    "                  ['o', 'o', 'i']])\n",
    "problema = Aspirador(3)\n"
   ]
  },
  {
   "cell_type": "code",
   "execution_count": 9,
   "metadata": {},
   "outputs": [
    {
     "name": "stdout",
     "output_type": "stream",
     "text": [
      "BFS:\n",
      "- Finalizado em 3.194999694824219e-02 segundos.\n",
      "- Foram visitados 89 estados.\n",
      "- A solução foi encontrada! =)\n"
     ]
    }
   ],
   "source": [
    "# BFS\n",
    "print('BFS:')\n",
    "tempo = time.time()\n",
    "bfs = BreadthFirstSearch(problema)\n",
    "bfs_resultados = bfs.busca(start)\n",
    "tempo_f = time.time() - tempo\n",
    "mostrar_resultados(bfs_resultados, tempo_f)\n"
   ]
  },
  {
   "cell_type": "code",
   "execution_count": 10,
   "metadata": {},
   "outputs": [
    {
     "name": "stdout",
     "output_type": "stream",
     "text": [
      "DFS:\n",
      "- Finalizado em 1.9953250885009766e-03 segundos.\n",
      "- Foram visitados 9 estados.\n",
      "- A solução foi encontrada! =)\n"
     ]
    }
   ],
   "source": [
    "# DFS\n",
    "print('DFS:')\n",
    "tempo = time.time()\n",
    "dfs = DepthFirstSearch(problema)\n",
    "dfs_resultados = dfs.busca(start)\n",
    "tempo = time.time() - tempo\n",
    "mostrar_resultados(dfs_resultados, tempo)\n"
   ]
  },
  {
   "cell_type": "code",
   "execution_count": 11,
   "metadata": {},
   "outputs": [
    {
     "name": "stdout",
     "output_type": "stream",
     "text": [
      "Busca Gulosa:\n",
      "- Finalizado em 1.0457038879394531e-03 segundos.\n",
      "- Foram visitados 9 estados.\n",
      "- A solução foi encontrada! =)\n"
     ]
    }
   ],
   "source": [
    "# Busca Gulosa\n",
    "print('Busca Gulosa:')\n",
    "tempo = time.time()\n",
    "bg = BuscaGulosa(problema)\n",
    "bg_resultados = bg.busca(start)\n",
    "tempo = time.time() - tempo\n",
    "mostrar_resultados(bg_resultados, tempo)\n"
   ]
  }
 ],
 "metadata": {
  "interpreter": {
   "hash": "d686fb4bba1cd81d322bac49812b464465e293b78591a47e52bedfb124e592be"
  },
  "kernelspec": {
   "display_name": "Python 3.10.4 64-bit",
   "language": "python",
   "name": "python3"
  },
  "language_info": {
   "codemirror_mode": {
    "name": "ipython",
    "version": 3
   },
   "file_extension": ".py",
   "mimetype": "text/x-python",
   "name": "python",
   "nbconvert_exporter": "python",
   "pygments_lexer": "ipython3",
   "version": "3.10.4"
  },
  "orig_nbformat": 4
 },
 "nbformat": 4,
 "nbformat_minor": 2
}
